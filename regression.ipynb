{
  "nbformat": 4,
  "nbformat_minor": 0,
  "metadata": {
    "colab": {
      "name": "regression.ipynb",
      "provenance": []
    },
    "kernelspec": {
      "name": "python3",
      "display_name": "Python 3"
    }
  },
  "cells": [
    {
      "cell_type": "code",
      "metadata": {
        "id": "FSi2dBe6EvVq",
        "colab_type": "code",
        "colab": {}
      },
      "source": [
        "import pandas as pd\n",
        "from sklearn.linear_model import LinearRegression\n",
        "import json"
      ],
      "execution_count": 0,
      "outputs": []
    },
    {
      "cell_type": "code",
      "metadata": {
        "id": "mSnYLzyA156J",
        "colab_type": "code",
        "colab": {}
      },
      "source": [
        "# Reading the dataset from a Gitlab repo\n",
        "url = 'https://gitlab.com/jfuentesibanez/datasets/raw/master/regression_tutorial/advertising.csv'\n",
        "df = pd.read_csv(url)"
      ],
      "execution_count": 0,
      "outputs": []
    },
    {
      "cell_type": "code",
      "metadata": {
        "id": "6Crqf7zk2YOz",
        "colab_type": "code",
        "colab": {}
      },
      "source": [
        "# Data exploration\n",
        "df.head()"
      ],
      "execution_count": 0,
      "outputs": []
    },
    {
      "cell_type": "code",
      "metadata": {
        "id": "hWRe1Md-21O0",
        "colab_type": "code",
        "colab": {}
      },
      "source": [
        "# In order to build he LR model we will use the first three columns as predictors (TV, Radio & Newspaper)\n",
        "predictors = ['TV', 'Radio', 'Newspaper']\n",
        "X = df[predictors]\n",
        "y = df['Sales']"
      ],
      "execution_count": 0,
      "outputs": []
    },
    {
      "cell_type": "code",
      "metadata": {
        "id": "LxUaemEe3WOe",
        "colab_type": "code",
        "colab": {}
      },
      "source": [
        "# Model fitting and initialization\n",
        "lm = LinearRegression()\n",
        "model = lm.fit(X, y)"
      ],
      "execution_count": 0,
      "outputs": []
    },
    {
      "cell_type": "code",
      "metadata": {
        "id": "qsuvFmjJ3gyh",
        "colab_type": "code",
        "colab": {}
      },
      "source": [
        "# Now we can see the coefficients of our model\n",
        "print(f'alpha = {model.intercept_}')\n",
        "print(f'betas = {model.coef_}')"
      ],
      "execution_count": 0,
      "outputs": []
    },
    {
      "cell_type": "code",
      "metadata": {
        "colab_type": "code",
        "id": "dkxc3TFn7Wjg",
        "colab": {}
      },
      "source": [
        "# And make predictions based on arbitrary data\n",
        "input_params = [[200, 100, 100]]\n",
        "print(model.predict(input_params))"
      ],
      "execution_count": 0,
      "outputs": []
    }
  ]
}